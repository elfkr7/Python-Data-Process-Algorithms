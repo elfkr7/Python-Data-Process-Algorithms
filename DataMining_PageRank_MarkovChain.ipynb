{
 "cells": [
  {
   "cell_type": "code",
   "execution_count": 1,
   "metadata": {},
   "outputs": [],
   "source": [
    "import pandas as pd\n",
    "import numpy as np"
   ]
  },
  {
   "cell_type": "code",
   "execution_count": 2,
   "metadata": {},
   "outputs": [
    {
     "data": {
      "text/plain": [
       "array([[0.2],\n",
       "       [0.2],\n",
       "       [0.2],\n",
       "       [0.2],\n",
       "       [0.2]])"
      ]
     },
     "execution_count": 2,
     "metadata": {},
     "output_type": "execute_result"
    }
   ],
   "source": [
    "#assume initial distribution is uniform\n",
    "c=0.85\n",
    "r0=np.array([0.2,0.2,0.2,0.2,0.2]).reshape(5,1)\n",
    "r0"
   ]
  },
  {
   "cell_type": "code",
   "execution_count": 3,
   "metadata": {},
   "outputs": [
    {
     "data": {
      "text/plain": [
       "array([[0. , 1. , 0. , 0. , 0. ],\n",
       "       [0. , 0. , 0.5, 0.5, 0. ],\n",
       "       [0. , 0. , 0. , 1. , 0. ],\n",
       "       [0.5, 0. , 0. , 0. , 0.5],\n",
       "       [0. , 0. , 1. , 0. , 0. ]])"
      ]
     },
     "execution_count": 3,
     "metadata": {},
     "output_type": "execute_result"
    }
   ],
   "source": [
    "c=0.85\n",
    "n=5\n",
    "P=np.zeros((5,5))\n",
    "P[0,1]=1\n",
    "P[1,2]=0.5\n",
    "P[1,3]=0.5\n",
    "P[2,3]=1\n",
    "P[3,0]=0.5\n",
    "P[3,4]=0.5\n",
    "P[4,2]=1\n",
    "P"
   ]
  },
  {
   "cell_type": "code",
   "execution_count": 4,
   "metadata": {
    "scrolled": true
   },
   "outputs": [
    {
     "data": {
      "text/plain": [
       "array([[0.15555492],\n",
       "       [0.16223822],\n",
       "       [0.23119216],\n",
       "       [0.29545977],\n",
       "       [0.15555492]])"
      ]
     },
     "execution_count": 4,
     "metadata": {},
     "output_type": "execute_result"
    }
   ],
   "source": [
    "r_new= c*np.dot(np.transpose(P),r0)+(1-c)/n\n",
    "for i in range(29):\n",
    "    r_new=c*np.dot(np.transpose(P),r_new)+(1-c)/n\n",
    "\n",
    "r_new"
   ]
  },
  {
   "cell_type": "code",
   "execution_count": 5,
   "metadata": {},
   "outputs": [
    {
     "data": {
      "text/plain": [
       "array([[0.1556],\n",
       "       [0.1622],\n",
       "       [0.2312],\n",
       "       [0.2955],\n",
       "       [0.1556]])"
      ]
     },
     "execution_count": 5,
     "metadata": {},
     "output_type": "execute_result"
    }
   ],
   "source": [
    "np.round(r_new,4)"
   ]
  }
 ],
 "metadata": {
  "kernelspec": {
   "display_name": "Python 3",
   "language": "python",
   "name": "python3"
  },
  "language_info": {
   "codemirror_mode": {
    "name": "ipython",
    "version": 3
   },
   "file_extension": ".py",
   "mimetype": "text/x-python",
   "name": "python",
   "nbconvert_exporter": "python",
   "pygments_lexer": "ipython3",
   "version": "3.8.5"
  }
 },
 "nbformat": 4,
 "nbformat_minor": 4
}
