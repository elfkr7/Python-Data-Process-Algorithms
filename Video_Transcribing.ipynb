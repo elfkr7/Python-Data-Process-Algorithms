{
  "nbformat": 4,
  "nbformat_minor": 0,
  "metadata": {
    "colab": {
      "name": "Video_Transcribing.ipynb",
      "provenance": [],
      "collapsed_sections": [],
      "authorship_tag": "ABX9TyMuUnewQBrIWEifG3xDJIgA",
      "include_colab_link": true
    },
    "kernelspec": {
      "name": "python3",
      "display_name": "Python 3"
    },
    "language_info": {
      "name": "python"
    }
  },
  "cells": [
    {
      "cell_type": "markdown",
      "metadata": {
        "id": "view-in-github",
        "colab_type": "text"
      },
      "source": [
        "<a href=\"https://colab.research.google.com/github/elfkr7/Python-Data-Process-Algorithms/blob/main/Video_Transcribing.ipynb\" target=\"_parent\"><img src=\"https://colab.research.google.com/assets/colab-badge.svg\" alt=\"Open In Colab\"/></a>"
      ]
    },
    {
      "cell_type": "code",
      "source": [
        "from bs4 import BeautifulSoup\n",
        "import requests\n",
        "import json\n",
        "\n",
        "url = requests.get(\"https://www.cnbc.com/2021/10/13/the-consumer-price-index-rose-5point4percent-year-over-year-in-september-vs-5point3percent-estimate.html\")\n",
        "\n",
        "page = url.content\n",
        "\n",
        "soup = BeautifulSoup(page, \"html.parser\")\n",
        "\n",
        "\n",
        "\n",
        "result = str(soup.find_all('script')[1]) #looking for script tag inside the html-file\n",
        "result = result.split('<script type=\"application/ld+json\">')[1].split(\"</script>\")[0].split('\\n')[0] \n",
        "#separating the json from the whole script-string, digged around in the file to find out how to do it\n",
        "\n",
        "result = json.loads(result)\n",
        "\n",
        "embed_url=result[\"video\"][\"embedUrl\"]\n",
        "print(embed_url)\n",
        "\n",
        "embed_url=requests.get(embed_url)\n",
        "\n",
        "page = embed_url.content\n",
        "\n",
        "soup = BeautifulSoup(page, \"html.parser\")\n",
        "\n",
        "\n",
        "\n",
        "result = str(soup.find_all('script')[1]) #looking for script tag inside the html-file\n",
        "result = result.split('<script type=\"application/ld+json\">')[1].split(\"</script>\")[0].split('\\n')[0] \n",
        "#separating the json from the whole script-string, digged around in the file to find out how to do it\n",
        "\n",
        "result = json.loads(result)\n",
        "video_url=result[\"contentUrl\"]\n",
        "print(video_url)\n"
      ],
      "metadata": {
        "colab": {
          "base_uri": "https://localhost:8080/"
        },
        "id": "24VrBJTEqVwp",
        "outputId": "7e377751-d3d9-4a86-f573-7bb977b49700"
      },
      "execution_count": 1,
      "outputs": [
        {
          "output_type": "stream",
          "name": "stdout",
          "text": [
            "https://www.cnbc.com/video/2021/10/13/septembers-consumer-price-index-up-0-point-4-percent-vs-0-point-3-percent-estimate.html\n",
            "http://pdl.iphone.cnbc.com/VCPS/Y2021/M10D13/7000214302/1634128927-19194385531-hd_L.mp4\n"
          ]
        }
      ]
    },
    {
      "cell_type": "code",
      "source": [
        "import requests\n",
        "\n",
        "def download_file(url):\n",
        "    local_filename = url.split('/')[-1]\n",
        "    # NOTE the stream=True parameter\n",
        "    r = requests.get(url, stream=True)\n",
        "    with open(local_filename, 'wb') as f:\n",
        "        for chunk in r.iter_content(chunk_size=1024): \n",
        "            if chunk: # filter out keep-alive new chunks\n",
        "                f.write(chunk)\n",
        "                #f.flush() commented by recommendation from J.F.Sebastian\n",
        "    return local_filename"
      ],
      "metadata": {
        "id": "w8Ouxu2HwhUZ"
      },
      "execution_count": 2,
      "outputs": []
    },
    {
      "cell_type": "code",
      "source": [
        "v=download_file(video_url)"
      ],
      "metadata": {
        "id": "fqVAYQVd7oZa"
      },
      "execution_count": 3,
      "outputs": []
    },
    {
      "cell_type": "code",
      "source": [
        "v"
      ],
      "metadata": {
        "colab": {
          "base_uri": "https://localhost:8080/",
          "height": 36
        },
        "id": "g96Cmi7Vue8c",
        "outputId": "b0ec5854-5364-4044-d300-f0ef9c92b97b"
      },
      "execution_count": 4,
      "outputs": [
        {
          "output_type": "execute_result",
          "data": {
            "text/plain": [
              "'1634128927-19194385531-hd_L.mp4'"
            ],
            "application/vnd.google.colaboratory.intrinsic+json": {
              "type": "string"
            }
          },
          "metadata": {},
          "execution_count": 4
        }
      ]
    },
    {
      "cell_type": "code",
      "source": [
        "import os\n",
        "!pip install SpeechRecognition\n",
        "import speech_recognition as sr"
      ],
      "metadata": {
        "colab": {
          "base_uri": "https://localhost:8080/"
        },
        "id": "dOlEsH8s-KuE",
        "outputId": "980e09b1-3509-499e-e47a-ca9dcce4ad03"
      },
      "execution_count": 5,
      "outputs": [
        {
          "output_type": "stream",
          "name": "stdout",
          "text": [
            "Looking in indexes: https://pypi.org/simple, https://us-python.pkg.dev/colab-wheels/public/simple/\n",
            "Collecting SpeechRecognition\n",
            "  Downloading SpeechRecognition-3.8.1-py2.py3-none-any.whl (32.8 MB)\n",
            "\u001b[K     |████████████████████████████████| 32.8 MB 62.1 MB/s \n",
            "\u001b[?25hInstalling collected packages: SpeechRecognition\n",
            "Successfully installed SpeechRecognition-3.8.1\n"
          ]
        }
      ]
    },
    {
      "cell_type": "code",
      "source": [
        "command2mp3 = \"ffmpeg -i 1634128927-19194385531-hd_L.mp4 1634128927-19194385531-hd_L.mp3\"\n",
        "command2wav = \"ffmpeg -i 1634128927-19194385531-hd_L.mp3 1634128927-19194385531-hd_L.wav\""
      ],
      "metadata": {
        "id": "FZoBD51n-Kwz"
      },
      "execution_count": 6,
      "outputs": []
    },
    {
      "cell_type": "code",
      "source": [
        "os.system(command2mp3)\n",
        "os.system(command2wav)"
      ],
      "metadata": {
        "colab": {
          "base_uri": "https://localhost:8080/"
        },
        "id": "HfUzx0Buu8eV",
        "outputId": "4e04845b-3414-4102-e18b-ca27d790867e"
      },
      "execution_count": 7,
      "outputs": [
        {
          "output_type": "execute_result",
          "data": {
            "text/plain": [
              "0"
            ]
          },
          "metadata": {},
          "execution_count": 7
        }
      ]
    },
    {
      "cell_type": "code",
      "source": [
        "r = sr.Recognizer()\n",
        "audio = sr.AudioFile('1634128927-19194385531-hd_L.wav')"
      ],
      "metadata": {
        "id": "GabrFauQvAb-"
      },
      "execution_count": 8,
      "outputs": []
    },
    {
      "cell_type": "code",
      "source": [
        "with audio as source:\n",
        "  audio = r.record(source)\n",
        "  t=r.recognize_google(audio)\n",
        "\n",
        "r = sr.Recognizer()\n",
        "audio = sr.AudioFile('1634128927-19194385531-hd_L.wav')\n",
        "\n",
        "with audio as source:\n",
        "  audio = r.record(source,offset=100)\n",
        "  h=r.recognize_google(audio)\n",
        "\n",
        "r = sr.Recognizer()\n",
        "audio = sr.AudioFile('1634128927-19194385531-hd_L.wav')\n",
        "\n",
        "with audio as source:\n",
        "  audio = r.record(source,offset=200)\n",
        "  k=r.recognize_google(audio)\n",
        "\n"
      ],
      "metadata": {
        "id": "m7i22FEVvAeL"
      },
      "execution_count": 9,
      "outputs": []
    },
    {
      "cell_type": "code",
      "source": [
        "t+h+k"
      ],
      "metadata": {
        "colab": {
          "base_uri": "https://localhost:8080/",
          "height": 832
        },
        "id": "q4KhmbHdyuTD",
        "outputId": "e7a6fff8-791f-4a1b-b05b-35b5b83fcd1d"
      },
      "execution_count": 10,
      "outputs": [
        {
          "output_type": "execute_result",
          "data": {
            "text/plain": [
              "\"guard numbers for a headline 02x food and energy a little harder on the headline a little softer on a Cooler on the extra energy you every year five for looking for 530 spot on 4% year-over-year energy of 1.3 that was strong we'll earnings a private workers 08 so that's good at keeping pace with inflation possible little bit and then I'm going to turn to the table here to see if I can get the actual individual area to give him one s and a cold up there it is ok going down that's for the month over month change food up a strong 0.9% thereby food at home 1.2% of food away from 0LB used car area there that still negative mind 0.7 I think that's gonna change a little bit of airfares with another area that gives some relief in the prior month fuel oil 3.9% utilities up 2.7 all of this energy-related getting away from the energy areas commanders little relief in there 0.2% new vehicles up a strong 1.3% one more thing apparel down 1.1 so a little bit of a mixed bag here on the non-food energy stuff for the food and stuff big today and you and really appointment to this idea I'm taking Bible which comet yesterday Takes Two To Tango that yeah we have had supply side shocks but the question as to whether or not the Federal Reserve in fiscal policy overly accommodated the building to spend on the supply side child having a big story what you see when you look at the probabilities down the road and very quickly is the probably are coming closer so what was it December 20-22 probability now looks like I'm more than 50% of a great like in September so that's been moved forward to having you know he said right now he can charge basically whatever he wants for a room unbelievable field and I wiped my tears I fell off my chair and I hit my head when I heard that that is quite remarkable look one of the ways and berryknowes is better because he lives in I know it's theoretically one of the ways that you stop inflation or is it caps is that unit price resisted if there's a given elasticity for pricing everything it's not out there it doesn't exist it is quite remarkable I think that's a combination people can pay it but also the full supply of rooms is not on the market right now I don't know if you got to talk to bury that's all off my chair I had to go get ready for this number but I don't know if that's partly the result of some supply might be out there but one of the things were going to be watching a ticket bestest need to watch when doing this upcoming earnings season is the extent to which they be able to pass a One prices and then some because what we saw on the second corner was this margin expansion if it cost you £10 extra you raise prices by $11 and you got away with it which is what buries talking about right there and so now the question is have they met that resistance cos that's one of the things they fed and a kind of mistake is going to happen you meet a certain resistance and that stops the prices from rising it is not meeting resistance that means inflation has a process that has a ways to go see you but I don't think the resistance levels be not yet but we appreciate your perspective on all the dooryesterday Takes Two To Tango that yeah we have had supply side shocks but the question as to whether or not the Federal Reserve in fiscal policy overly accommodated you don't need to spend on the supply side shock and a big storing what you see when you look at the probabilities down the road and very quickly is the probability of rain are coming closer so what was it December 20-22 probability now looks like I'm more than 50% of overweight like in September so that's been moved forward to having you know right now he can charge basically whatever he wants for a room unbelievable and it gets filled and I wiped my tears I fell off my chair and I hit my head when I heard that that is quite remarkable look one of the ways and berryknowes is better because he lives in I know it's early one of the ways that you stop inflation or is it caps is that you meet price resisted if there is giving elasticity for pricing everything it's not out there it doesn't exist it is quite remarkable I think that's a combination people can pay it but also the for supply of rooms is not on the market right now I don't know if you got to talk to Barry but she said that's all off my chair I had to go get ready for this number but I don't know if it's partly the result of some supply might be out there but one of the things were going to be watching I think it's best just need to watch when doing this upcoming earnings season is the extent to which they be able to pass them on prices and then some because what we saw in the second quarter was this margin expansion if it cost you £10 extra you raise prices buy $11 and you got away with it which is Barry's talking about right there and so now the question is have they met that resistance cos that's one of the things they fed and I kind of mistake is going to happen you need a certain resistance and that stops the price this is from rising if he's not meeting resistance that means inflation has a process that has a ways to go see you then I don't think the resistance levels been not yet but we appreciate your perspective onthis margin expansion if it cost you £10 extra you raise prices by $11 and you got away with it which is Barry's talking about right there and so now the question is have they met that resistance cos that's one of the things the fan and a kind of mistake is going to happen you need a certain resistance and that stops the prices from rising if he's not meeting resistance that means inflation has a process that has a ways to go see you then I don't think the resistance levels been not yet but we appreciate your perspective on\""
            ],
            "application/vnd.google.colaboratory.intrinsic+json": {
              "type": "string"
            }
          },
          "metadata": {},
          "execution_count": 10
        }
      ]
    },
    {
      "cell_type": "markdown",
      "source": [
        "References:\n",
        "\n",
        "-https://becominghuman.ai/how-to-generate-text-from-a-video-file-using-python-261f59e95b5f\n",
        "-https://www.geeksforgeeks.org/extract-all-the-urls-from-the-webpage-using-python/"
      ],
      "metadata": {
        "id": "1lgWU6uTTpdT"
      }
    },
    {
      "cell_type": "code",
      "source": [
        ""
      ],
      "metadata": {
        "id": "RM9-HQQFT4vk"
      },
      "execution_count": null,
      "outputs": []
    }
  ]
}