{
 "cells": [
  {
   "cell_type": "code",
   "execution_count": 1,
   "metadata": {},
   "outputs": [],
   "source": [
    "import numpy as np\n",
    "import pandas as pd"
   ]
  },
  {
   "cell_type": "code",
   "execution_count": 2,
   "metadata": {},
   "outputs": [],
   "source": [
    "string1=\"TACAAGGAGTGA\"\n",
    "string2=\"ATTGCAGAGA\"\n",
    "#string1=\"kitten\"\n",
    "#string2=\"sitting\""
   ]
  },
  {
   "cell_type": "code",
   "execution_count": 3,
   "metadata": {},
   "outputs": [],
   "source": [
    "m=len(string1)\n",
    "n=len(string2)"
   ]
  },
  {
   "cell_type": "code",
   "execution_count": 4,
   "metadata": {},
   "outputs": [],
   "source": [
    "A=np.zeros((m+1,n+1))"
   ]
  },
  {
   "cell_type": "code",
   "execution_count": 5,
   "metadata": {},
   "outputs": [],
   "source": [
    "A[0,0]=0\n",
    "A[1:m+1,0]=range(1,m+1)\n",
    "A[0,1:n+1]=range(1,n+1)\n"
   ]
  },
  {
   "cell_type": "code",
   "execution_count": 6,
   "metadata": {},
   "outputs": [],
   "source": [
    "def cost(i,j):\n",
    "    if string1[i-1]==string2[j-1]:\n",
    "        cost=0\n",
    "        return(cost)\n",
    "    else: \n",
    "        cost=1\n",
    "        return(cost)"
   ]
  },
  {
   "cell_type": "code",
   "execution_count": 7,
   "metadata": {},
   "outputs": [
    {
     "data": {
      "text/plain": [
       "6.0"
      ]
     },
     "execution_count": 7,
     "metadata": {},
     "output_type": "execute_result"
    }
   ],
   "source": [
    " for i in range(1,m+1):\n",
    "        for j in range(1,n+1):\n",
    "            A[i,j]=min((A[i,j-1]+1),(A[i-1,j]+1),(A[i-1,j-1]+cost(i,j)))\n",
    "A[m,n]"
   ]
  },
  {
   "cell_type": "code",
   "execution_count": 8,
   "metadata": {},
   "outputs": [
    {
     "data": {
      "text/plain": [
       "array([[ 0.,  1.,  2.,  3.,  4.,  5.,  6.,  7.,  8.,  9., 10.],\n",
       "       [ 1.,  1.,  1.,  2.,  3.,  4.,  5.,  6.,  7.,  8.,  9.],\n",
       "       [ 2.,  1.,  2.,  2.,  3.,  4.,  4.,  5.,  6.,  7.,  8.],\n",
       "       [ 3.,  2.,  2.,  3.,  3.,  3.,  4.,  5.,  6.,  7.,  8.],\n",
       "       [ 4.,  3.,  3.,  3.,  4.,  4.,  3.,  4.,  5.,  6.,  7.],\n",
       "       [ 5.,  4.,  4.,  4.,  4.,  5.,  4.,  4.,  4.,  5.,  6.],\n",
       "       [ 6.,  5.,  5.,  5.,  4.,  5.,  5.,  4.,  5.,  4.,  5.],\n",
       "       [ 7.,  6.,  6.,  6.,  5.,  5.,  6.,  5.,  5.,  5.,  5.],\n",
       "       [ 8.,  7.,  7.,  7.,  6.,  6.,  5.,  6.,  5.,  6.,  5.],\n",
       "       [ 9.,  8.,  8.,  8.,  7.,  7.,  6.,  5.,  6.,  5.,  6.],\n",
       "       [10.,  9.,  8.,  8.,  8.,  8.,  7.,  6.,  6.,  6.,  6.],\n",
       "       [11., 10.,  9.,  9.,  8.,  9.,  8.,  7.,  7.,  6.,  7.],\n",
       "       [12., 11., 10., 10.,  9.,  9.,  9.,  8.,  7.,  7.,  6.]])"
      ]
     },
     "execution_count": 8,
     "metadata": {},
     "output_type": "execute_result"
    }
   ],
   "source": [
    "A"
   ]
  }
 ],
 "metadata": {
  "kernelspec": {
   "display_name": "Python 3",
   "language": "python",
   "name": "python3"
  },
  "language_info": {
   "codemirror_mode": {
    "name": "ipython",
    "version": 3
   },
   "file_extension": ".py",
   "mimetype": "text/x-python",
   "name": "python",
   "nbconvert_exporter": "python",
   "pygments_lexer": "ipython3",
   "version": "3.8.5"
  }
 },
 "nbformat": 4,
 "nbformat_minor": 4
}
